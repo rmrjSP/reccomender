{
 "cells": [
  {
   "cell_type": "code",
   "execution_count": 6,
   "metadata": {},
   "outputs": [],
   "source": [
    "\n",
    "import pandas as pd"
   ]
  },
  {
   "cell_type": "code",
   "execution_count": 7,
   "metadata": {},
   "outputs": [],
   "source": [
    "books_df = pd.read_csv('books.csv')\n",
    "animanga_df = pd.read_csv('data.csv')\n",
    "movies_df = pd.read_csv('imdb_top_1000.csv')"
   ]
  },
  {
   "cell_type": "code",
   "execution_count": null,
   "metadata": {},
   "outputs": [],
   "source": [
    "pd.set_option('display.max_columns', None)\n",
    "pd.set_option('display.max_rows', None)"
   ]
  },
  {
   "cell_type": "code",
   "execution_count": 8,
   "metadata": {},
   "outputs": [],
   "source": [
    "books_df = books_df[['title', 'description', 'categories']]\n",
    "animanga_df = animanga_df[['title', 'description', 'tags']]\n",
    "movies_df = movies_df[['Series_Title', 'Overview', 'Genre']]"
   ]
  },
  {
   "cell_type": "code",
   "execution_count": 9,
   "metadata": {},
   "outputs": [],
   "source": [
    "import re\n",
    "\n",
    "def clean_title(title):\n",
    "    return re.sub(\"[^a-zA-Z0-9 ]\", \"\", title)"
   ]
  },
  {
   "cell_type": "code",
   "execution_count": 10,
   "metadata": {},
   "outputs": [],
   "source": [
    "books_df['description'] = books_df['description'].astype(str)\n",
    "books_df['categories'] = books_df['categories'].astype(str)\n",
    "animanga_df['description'] = animanga_df['description'].astype(str)\n",
    "animanga_df['title'] = animanga_df['title'].astype(str)\n",
    "animanga_df['tags'] = animanga_df['tags'].astype(str)\n"
   ]
  },
  {
   "cell_type": "code",
   "execution_count": 11,
   "metadata": {},
   "outputs": [],
   "source": [
    "movies_df['Series_Title'] = movies_df['Series_Title'].apply(clean_title)\n",
    "movies_df['Overview'] = movies_df['Overview'].apply(clean_title)\n",
    "movies_df['Genre'] = movies_df['Genre'].apply(clean_title)\n",
    "animanga_df['title'] = animanga_df['title'].apply(clean_title)\n",
    "animanga_df['description'] = animanga_df['description'].apply(clean_title)\n",
    "animanga_df['tags'] = animanga_df['tags'].apply(clean_title)\n",
    "books_df['title'] = books_df['title'].apply(clean_title)\n",
    "books_df['description'] = books_df['description'].apply(clean_title)\n",
    "books_df['categories'] = books_df['categories'].apply(clean_title)\n"
   ]
  },
  {
   "cell_type": "code",
   "execution_count": 12,
   "metadata": {},
   "outputs": [],
   "source": [
    "from sklearn.feature_extraction.text import TfidfVectorizer\n",
    "vectorizer = TfidfVectorizer(ngram_range=(1,2))\n",
    "#tfidf = vectorizer.fit_transform(movies_df['Overview'])\n",
    "#tfidfT = vectorizer.fit_transform(movies_df['Series_Title'])\n",
    "#tfidfG = vectorizer.fit_transform(movies_df['Genre'])\n",
    "#Use one of these, only the one you need on the thingy down there idk which, which everone is there will work\n"
   ]
  },
  {
   "cell_type": "code",
   "execution_count": 13,
   "metadata": {},
   "outputs": [],
   "source": [
    "from sklearn.metrics.pairwise import cosine_similarity\n",
    "import numpy as np\n",
    "\n",
    "def searchM(title):\n",
    "    \n",
    "    title = clean_title(title)\n",
    "    tfidfT = vectorizer.fit_transform(movies_df['Overview'])\n",
    "    query_vec = vectorizer.transform([title])\n",
    "    similarity = cosine_similarity(query_vec, tfidfT).flatten()\n",
    "    indices = np.argpartition(similarity, -5)[-5:]\n",
    "    results = movies_df.iloc[indices]\n",
    "    return results"
   ]
  },
  {
   "cell_type": "code",
   "execution_count": 14,
   "metadata": {},
   "outputs": [],
   "source": [
    "from sklearn.metrics.pairwise import cosine_similarity\n",
    "import numpy as np\n",
    "\n",
    "def searchB(title):\n",
    "    \n",
    "    title = clean_title(title)\n",
    "    tfidfB = vectorizer.fit_transform(books_df['description'])\n",
    "    query_vec = vectorizer.transform([title])\n",
    "    similarity = cosine_similarity(query_vec, tfidfB).flatten()\n",
    "    indices = np.argpartition(similarity, -5)[-5:]\n",
    "    results = books_df.iloc[indices]\n",
    "    return results"
   ]
  },
  {
   "cell_type": "code",
   "execution_count": 15,
   "metadata": {},
   "outputs": [],
   "source": [
    "from sklearn.metrics.pairwise import cosine_similarity\n",
    "import numpy as np\n",
    "\n",
    "def searchA(title):\n",
    "    \n",
    "    title = clean_title(title)\n",
    "    tfidfA = vectorizer.fit_transform(animanga_df['description'])\n",
    "    query_vec = vectorizer.transform([title])\n",
    "    similarity = cosine_similarity(query_vec, tfidfA).flatten()\n",
    "    indices = np.argpartition(similarity, -5)[-5:]\n",
    "    results = animanga_df.iloc[indices]\n",
    "    return results"
   ]
  },
  {
   "cell_type": "code",
   "execution_count": 17,
   "metadata": {},
   "outputs": [],
   "source": [
    "new_df = searchM('Harry Potter')\n"
   ]
  },
  {
   "cell_type": "code",
   "execution_count": 20,
   "metadata": {},
   "outputs": [
    {
     "data": {
      "text/html": [
       "<div>\n",
       "<style scoped>\n",
       "    .dataframe tbody tr th:only-of-type {\n",
       "        vertical-align: middle;\n",
       "    }\n",
       "\n",
       "    .dataframe tbody tr th {\n",
       "        vertical-align: top;\n",
       "    }\n",
       "\n",
       "    .dataframe thead th {\n",
       "        text-align: right;\n",
       "    }\n",
       "</style>\n",
       "<table border=\"1\" class=\"dataframe\">\n",
       "  <thead>\n",
       "    <tr style=\"text-align: right;\">\n",
       "      <th></th>\n",
       "      <th>title</th>\n",
       "      <th>description</th>\n",
       "      <th>categories</th>\n",
       "    </tr>\n",
       "  </thead>\n",
       "  <tbody>\n",
       "    <tr>\n",
       "      <th>2676</th>\n",
       "      <td>Harry Potter and the Order of the Phoenix Book 5</td>\n",
       "      <td>In Harry Potter and the Order of the Phoenix L...</td>\n",
       "      <td>Juvenile Fiction</td>\n",
       "    </tr>\n",
       "    <tr>\n",
       "      <th>2712</th>\n",
       "      <td>Harry Potter</td>\n",
       "      <td>The first five years of Harry Potter magic are...</td>\n",
       "      <td>Juvenile Fiction</td>\n",
       "    </tr>\n",
       "    <tr>\n",
       "      <th>2697</th>\n",
       "      <td>Harry Potter and the Chamber of Secrets</td>\n",
       "      <td>When the Chamber of Secrets is opened again at...</td>\n",
       "      <td>Juvenile Fiction</td>\n",
       "    </tr>\n",
       "    <tr>\n",
       "      <th>6736</th>\n",
       "      <td>Mapping the World of Harry Potter</td>\n",
       "      <td>Presents a collection of critiques of the work...</td>\n",
       "      <td>Literary Criticism</td>\n",
       "    </tr>\n",
       "    <tr>\n",
       "      <th>5644</th>\n",
       "      <td>Ultimate Unofficial Guide to the Mysteries of ...</td>\n",
       "      <td>A guide to JK Rowlings first four Harry Potter...</td>\n",
       "      <td>Literary Criticism</td>\n",
       "    </tr>\n",
       "  </tbody>\n",
       "</table>\n",
       "</div>"
      ],
      "text/plain": [
       "                                                  title  \\\n",
       "2676   Harry Potter and the Order of the Phoenix Book 5   \n",
       "2712                                       Harry Potter   \n",
       "2697            Harry Potter and the Chamber of Secrets   \n",
       "6736                  Mapping the World of Harry Potter   \n",
       "5644  Ultimate Unofficial Guide to the Mysteries of ...   \n",
       "\n",
       "                                            description          categories  \n",
       "2676  In Harry Potter and the Order of the Phoenix L...    Juvenile Fiction  \n",
       "2712  The first five years of Harry Potter magic are...    Juvenile Fiction  \n",
       "2697  When the Chamber of Secrets is opened again at...    Juvenile Fiction  \n",
       "6736  Presents a collection of critiques of the work...  Literary Criticism  \n",
       "5644  A guide to JK Rowlings first four Harry Potter...  Literary Criticism  "
      ]
     },
     "execution_count": 20,
     "metadata": {},
     "output_type": "execute_result"
    }
   ],
   "source": [
    "searchB('Harry Potter')"
   ]
  },
  {
   "cell_type": "code",
   "execution_count": null,
   "metadata": {},
   "outputs": [],
   "source": [
    "searchA('Harry Potter')"
   ]
  },
  {
   "cell_type": "code",
   "execution_count": 19,
   "metadata": {},
   "outputs": [
    {
     "data": {
      "application/vnd.jupyter.widget-view+json": {
       "model_id": "7d2bfb1a81e84202aea10f7482ea4a2e",
       "version_major": 2,
       "version_minor": 0
      },
      "text/plain": [
       "Text(value='Harry Potter', description='Movie_Title')"
      ]
     },
     "metadata": {},
     "output_type": "display_data"
    },
    {
     "data": {
      "application/vnd.jupyter.widget-view+json": {
       "model_id": "8ee7534916474318aa9d52b89fe4fd5e",
       "version_major": 2,
       "version_minor": 0
      },
      "text/plain": [
       "Output()"
      ]
     },
     "metadata": {},
     "output_type": "display_data"
    }
   ],
   "source": [
    "import ipywidgets as widgets\n",
    "from IPython.display import display\n",
    "movie_input = widgets.Text(\n",
    "    value='Harry Potter',\n",
    "    description='Movie_Title',\n",
    "    disabled=False\n",
    ")\n",
    "movie_list = widgets.Output()\n",
    "\n",
    "def on_type(data):\n",
    "    with movie_list:\n",
    "        movie_list.clear_output()\n",
    "        title = data['new']\n",
    "        display(searchM(title))\n",
    "\n",
    "movie_input.observe(on_type, names='values')\n",
    "\n",
    "display(movie_input, movie_list)"
   ]
  },
  {
   "cell_type": "code",
   "execution_count": null,
   "metadata": {},
   "outputs": [],
   "source": [
    "movies_df['Overview'] = movies_df['Overview'].apply(lambda x:x.split())"
   ]
  },
  {
   "cell_type": "code",
   "execution_count": null,
   "metadata": {},
   "outputs": [],
   "source": [
    "# This is a test"
   ]
  },
  {
   "cell_type": "code",
   "execution_count": null,
   "metadata": {},
   "outputs": [],
   "source": [
    "movies_df['Genre'] = movies_df['Genre'].apply(lambda x:[i.replace(\" \",\"\") for i in x])"
   ]
  },
  {
   "cell_type": "code",
   "execution_count": null,
   "metadata": {},
   "outputs": [],
   "source": [
    "movies_df['tags'] = movies_df['Overview']"
   ]
  },
  {
   "cell_type": "code",
   "execution_count": null,
   "metadata": {},
   "outputs": [],
   "source": [
    "new_df = movies_df[['tags']]"
   ]
  },
  {
   "cell_type": "code",
   "execution_count": null,
   "metadata": {},
   "outputs": [],
   "source": [
    "from sklearn.feature_extraction.text import CountVectorizer\n",
    "cv = CountVectorizer(max_features=1000, stop_words='english')"
   ]
  },
  {
   "cell_type": "code",
   "execution_count": null,
   "metadata": {},
   "outputs": [],
   "source": [
    "cv.fit_transform(new_df['tags']).toarray().shape"
   ]
  }
 ],
 "metadata": {
  "kernelspec": {
   "display_name": "base",
   "language": "python",
   "name": "python3"
  },
  "language_info": {
   "codemirror_mode": {
    "name": "ipython",
    "version": 3
   },
   "file_extension": ".py",
   "mimetype": "text/x-python",
   "name": "python",
   "nbconvert_exporter": "python",
   "pygments_lexer": "ipython3",
   "version": "3.11.5"
  }
 },
 "nbformat": 4,
 "nbformat_minor": 2
}
