{
 "cells": [
  {
   "cell_type": "code",
   "execution_count": 1,
   "metadata": {},
   "outputs": [],
   "source": [
    "\n",
    "import pandas as pd"
   ]
  },
  {
   "cell_type": "code",
   "execution_count": 2,
   "metadata": {},
   "outputs": [],
   "source": [
    "books_df = pd.read_csv('books.csv')\n",
    "animanga_df = pd.read_csv('data.csv')\n",
    "movies_df = pd.read_csv('imdb_top_1000.csv')"
   ]
  },
  {
   "cell_type": "code",
   "execution_count": null,
   "metadata": {},
   "outputs": [],
   "source": [
    "pd.set_option('display.max_columns', None)\n",
    "pd.set_option('display.max_rows', None)"
   ]
  },
  {
   "cell_type": "code",
   "execution_count": 3,
   "metadata": {},
   "outputs": [],
   "source": [
    "books_df = books_df[['title', 'description', 'categories']]\n",
    "animanga_df = animanga_df[['title', 'description', 'tags']]\n",
    "movies_df = movies_df[['Series_Title', 'Overview', 'Genre']]"
   ]
  },
  {
   "cell_type": "code",
   "execution_count": 4,
   "metadata": {},
   "outputs": [],
   "source": [
    "import re\n",
    "\n",
    "def clean_title(title):\n",
    "    return re.sub(\"[^a-zA-Z0-9 ]\", \"\", title)"
   ]
  },
  {
   "cell_type": "code",
   "execution_count": 5,
   "metadata": {},
   "outputs": [],
   "source": [
    "books_df['description'] = books_df['description'].astype(str)\n",
    "books_df['categories'] = books_df['categories'].astype(str)\n",
    "animanga_df['description'] = animanga_df['description'].astype(str)\n",
    "animanga_df['title'] = animanga_df['title'].astype(str)\n",
    "animanga_df['tags'] = animanga_df['tags'].astype(str)"
   ]
  },
  {
   "cell_type": "code",
   "execution_count": 6,
   "metadata": {},
   "outputs": [],
   "source": [
    "movies_df['Series_Title'] = movies_df['Series_Title'].apply(clean_title)\n",
    "movies_df['Overview'] = movies_df['Overview'].apply(clean_title)\n",
    "movies_df['Genre'] = movies_df['Genre'].apply(clean_title)\n",
    "animanga_df['title'] = animanga_df['title'].apply(clean_title)\n",
    "animanga_df['description'] = animanga_df['description'].apply(clean_title)\n",
    "animanga_df['tags'] = animanga_df['tags'].apply(clean_title)\n",
    "books_df['title'] = books_df['title'].apply(clean_title)\n",
    "books_df['description'] = books_df['description'].apply(clean_title)\n",
    "books_df['categories'] = books_df['categories'].apply(clean_title)"
   ]
  },
  {
   "cell_type": "code",
   "execution_count": 7,
   "metadata": {},
   "outputs": [],
   "source": [
    "from sklearn.feature_extraction.text import TfidfVectorizer\n",
    "vectorizer = TfidfVectorizer(ngram_range=(1,2))\n",
    "#tfidf = vectorizer.fit_transform(movies_df['Overview'])\n",
    "#tfidfT = vectorizer.fit_transform(movies_df['Series_Title'])\n",
    "#tfidfG = vectorizer.fit_transform(movies_df['Genre'])\n",
    "#Use one of these, only the one you need on the thingy down there idk which, which everone is there will work\n"
   ]
  },
  {
   "cell_type": "code",
   "execution_count": 10,
   "metadata": {},
   "outputs": [],
   "source": [
    "from sklearn.metrics.pairwise import cosine_similarity\n",
    "import numpy as np\n",
    " \n",
    "def searchM(title):\n",
    "   \n",
    "    title = clean_title(title)\n",
    "    tfidfT = vectorizer.fit_transform(movies_df['Overview'])\n",
    "    query_vec = vectorizer.transform([title])\n",
    "    similarity = cosine_similarity(query_vec, tfidfT).flatten()\n",
    "    indices = np.argpartition(similarity, -5)[-5:]\n",
    "    results = movies_df.iloc[indices]\n",
    "    return results"
   ]
  },
  {
   "cell_type": "code",
   "execution_count": 11,
   "metadata": {},
   "outputs": [],
   "source": [
    "from sklearn.metrics.pairwise import cosine_similarity\n",
    "import numpy as np\n",
    " \n",
    "def searchB(title):\n",
    "   \n",
    "    title = clean_title(title)\n",
    "    tfidfB = vectorizer.fit_transform(books_df['title'])\n",
    "    query_vec = vectorizer.transform([title])\n",
    "    similarity = cosine_similarity(query_vec, tfidfB).flatten()\n",
    "    indices = np.argpartition(similarity, -5)[-5:]\n",
    "    results = books_df.iloc[indices]\n",
    "    return results"
   ]
  },
  {
   "cell_type": "code",
   "execution_count": 12,
   "metadata": {},
   "outputs": [],
   "source": [
    "from sklearn.metrics.pairwise import cosine_similarity\n",
    "import numpy as np\n",
    " \n",
    "def searchA(title):\n",
    "   \n",
    "    title = clean_title(title)\n",
    "    tfidfA = vectorizer.fit_transform(animanga_df['description'])\n",
    "    query_vec = vectorizer.transform([title])\n",
    "    similarity = cosine_similarity(query_vec, tfidfA).flatten()\n",
    "    indices = np.argpartition(similarity, -5)[-5:]\n",
    "    results = animanga_df.iloc[indices]\n",
    "    return results"
   ]
  },
  {
   "cell_type": "code",
   "execution_count": 9,
   "metadata": {},
   "outputs": [
    {
     "data": {
      "text/html": [
       "<div>\n",
       "<style scoped>\n",
       "    .dataframe tbody tr th:only-of-type {\n",
       "        vertical-align: middle;\n",
       "    }\n",
       "\n",
       "    .dataframe tbody tr th {\n",
       "        vertical-align: top;\n",
       "    }\n",
       "\n",
       "    .dataframe thead th {\n",
       "        text-align: right;\n",
       "    }\n",
       "</style>\n",
       "<table border=\"1\" class=\"dataframe\">\n",
       "  <thead>\n",
       "    <tr style=\"text-align: right;\">\n",
       "      <th></th>\n",
       "      <th>Series_Title</th>\n",
       "      <th>Overview</th>\n",
       "      <th>Genre</th>\n",
       "    </tr>\n",
       "  </thead>\n",
       "  <tbody>\n",
       "    <tr>\n",
       "      <th>309</th>\n",
       "      <td>The Third Man</td>\n",
       "      <td>Pulp novelist Holly Martins travels to shadowy...</td>\n",
       "      <td>FilmNoir Mystery Thriller</td>\n",
       "    </tr>\n",
       "    <tr>\n",
       "      <th>781</th>\n",
       "      <td>Harry Potter and the Goblet of Fire</td>\n",
       "      <td>Harry Potter finds himself competing in a haza...</td>\n",
       "      <td>Adventure Family Fantasy</td>\n",
       "    </tr>\n",
       "    <tr>\n",
       "      <th>927</th>\n",
       "      <td>Harry Potter and the HalfBlood Prince</td>\n",
       "      <td>As Harry Potter begins his sixth year at Hogwa...</td>\n",
       "      <td>Action Adventure Family</td>\n",
       "    </tr>\n",
       "    <tr>\n",
       "      <th>975</th>\n",
       "      <td>When Harry Met Sally</td>\n",
       "      <td>Harry and Sally have known each other for year...</td>\n",
       "      <td>Comedy Drama Romance</td>\n",
       "    </tr>\n",
       "    <tr>\n",
       "      <th>506</th>\n",
       "      <td>Harry Potter and the Prisoner of Azkaban</td>\n",
       "      <td>Harry Potter Ron and Hermione return to Hogwar...</td>\n",
       "      <td>Adventure Family Fantasy</td>\n",
       "    </tr>\n",
       "  </tbody>\n",
       "</table>\n",
       "</div>"
      ],
      "text/plain": [
       "                                 Series_Title  \\\n",
       "309                             The Third Man   \n",
       "781       Harry Potter and the Goblet of Fire   \n",
       "927     Harry Potter and the HalfBlood Prince   \n",
       "975                      When Harry Met Sally   \n",
       "506  Harry Potter and the Prisoner of Azkaban   \n",
       "\n",
       "                                              Overview  \\\n",
       "309  Pulp novelist Holly Martins travels to shadowy...   \n",
       "781  Harry Potter finds himself competing in a haza...   \n",
       "927  As Harry Potter begins his sixth year at Hogwa...   \n",
       "975  Harry and Sally have known each other for year...   \n",
       "506  Harry Potter Ron and Hermione return to Hogwar...   \n",
       "\n",
       "                         Genre  \n",
       "309  FilmNoir Mystery Thriller  \n",
       "781   Adventure Family Fantasy  \n",
       "927    Action Adventure Family  \n",
       "975       Comedy Drama Romance  \n",
       "506   Adventure Family Fantasy  "
      ]
     },
     "execution_count": 9,
     "metadata": {},
     "output_type": "execute_result"
    }
   ],
   "source": [
    "searchB('Harry Potter')"
   ]
  },
  {
   "cell_type": "code",
   "execution_count": null,
   "metadata": {},
   "outputs": [],
   "source": [
    "import ipywidgets as widgets\n",
    "from IPython.display import display\n",
    "movie_input = widgets.Text(\n",
    "    value='Harry Potter',\n",
    "    description='Moive_Title',\n",
    "    disabled=False\n",
    ")\n",
    "movie_list = widgets.Output()\n",
    "\n",
    "def on_type(data):\n",
    "    with movie_list:\n",
    "        movie_list.clear_output()\n",
    "        title = data['new']\n",
    "        display(search(title))\n",
    "\n",
    "movie_input.observe(on_type, names='values')\n",
    "\n",
    "display(movie_input, movie_list)"
   ]
  },
  {
   "cell_type": "code",
   "execution_count": null,
   "metadata": {},
   "outputs": [],
   "source": [
    "movies_df['Overview'] = movies_df['Overview'].apply(lambda x:x.split())"
   ]
  },
  {
   "cell_type": "code",
   "execution_count": null,
   "metadata": {},
   "outputs": [],
   "source": [
    "# This is a test"
   ]
  },
  {
   "cell_type": "code",
   "execution_count": null,
   "metadata": {},
   "outputs": [],
   "source": [
    "movies_df['Genre'] = movies_df['Genre'].apply(lambda x:[i.replace(\" \",\"\") for i in x])"
   ]
  },
  {
   "cell_type": "code",
   "execution_count": null,
   "metadata": {},
   "outputs": [],
   "source": [
    "movies_df['tags'] = movies_df['Overview']"
   ]
  },
  {
   "cell_type": "code",
   "execution_count": null,
   "metadata": {},
   "outputs": [],
   "source": [
    "new_df = movies_df[['tags']]"
   ]
  },
  {
   "cell_type": "code",
   "execution_count": null,
   "metadata": {},
   "outputs": [],
   "source": [
    "from sklearn.feature_extraction.text import CountVectorizer\n",
    "cv = CountVectorizer(max_features=1000, stop_words='english')"
   ]
  },
  {
   "cell_type": "code",
   "execution_count": null,
   "metadata": {},
   "outputs": [],
   "source": [
    "cv.fit_transform(new_df['tags']).toarray().shape"
   ]
  }
 ],
 "metadata": {
  "kernelspec": {
   "display_name": "base",
   "language": "python",
   "name": "python3"
  },
  "language_info": {
   "codemirror_mode": {
    "name": "ipython",
    "version": 3
   },
   "file_extension": ".py",
   "mimetype": "text/x-python",
   "name": "python",
   "nbconvert_exporter": "python",
   "pygments_lexer": "ipython3",
   "version": "3.11.5"
  }
 },
 "nbformat": 4,
 "nbformat_minor": 2
}
