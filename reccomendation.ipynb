{
 "cells": [
  {
   "cell_type": "code",
   "execution_count": 16,
   "metadata": {},
   "outputs": [],
   "source": [
    "\n",
    "import pandas as pd"
   ]
  },
  {
   "cell_type": "code",
   "execution_count": 17,
   "metadata": {},
   "outputs": [],
   "source": [
    "books_df = pd.read_csv('books.csv')\n",
    "animanga_df = pd.read_csv('data.csv')\n",
    "movies_df = pd.read_csv('imdb_top_1000.csv')"
   ]
  },
  {
   "cell_type": "code",
   "execution_count": null,
   "metadata": {},
   "outputs": [],
   "source": [
    "pd.set_option('display.max_columns', None)\n",
    "pd.set_option('display.max_rows', None)"
   ]
  },
  {
   "cell_type": "code",
   "execution_count": null,
   "metadata": {},
   "outputs": [],
   "source": [
    "books_df = books_df[['title', 'description', 'categories']]\n",
    "animanga_df = animanga_df[['title', 'description', 'tags']]\n",
    "movies_df = movies_df[['Series_Title', 'Overview', 'Genre']]"
   ]
  },
  {
   "cell_type": "code",
   "execution_count": 18,
   "metadata": {},
   "outputs": [],
   "source": [
    "import re\n",
    "\n",
    "def clean_title(title):\n",
    "    return re.sub(\"[^a-zA-Z0-9 ]\", \"\", title)"
   ]
  },
  {
   "cell_type": "code",
   "execution_count": 19,
   "metadata": {},
   "outputs": [],
   "source": [
    "movies_df['Series_Title'] = movies_df['Series_Title'].apply(clean_title)\n",
    "movies_df['Overview'] = movies_df['Overview'].apply(clean_title)\n",
    "movies_df['Genre'] = movies_df['Genre'].apply(clean_title)"
   ]
  },
  {
   "cell_type": "code",
   "execution_count": 20,
   "metadata": {},
   "outputs": [],
   "source": [
    "from sklearn.feature_extraction.text import TfidfVectorizer\n",
    "vectorizer = TfidfVectorizer(ngram_range=(1,2))\n",
    "#tfidf = vectorizer.fit_transform(movies_df['Overview'])\n",
    "#tfidfT = vectorizer.fit_transform(movies_df['Series_Title'])\n",
    "#tfidfG = vectorizer.fit_transform(movies_df['Genre'])\n",
    "#Use one of these, only the one you need on the thingy down there idk which, which everone is there will work\n"
   ]
  },
  {
   "cell_type": "code",
   "execution_count": 61,
   "metadata": {},
   "outputs": [],
   "source": [
    "from sklearn.metrics.pairwise import cosine_similarity\n",
    "import numpy as np\n",
    "\n",
    "def search(title):\n",
    "    \n",
    "    title = clean_title(title)\n",
    "    tfidfT = vectorizer.fit_transform(movies_df['Series_Title'])\n",
    "    query_vec = vectorizer.transform([title])\n",
    "    similarity = cosine_similarity(query_vec, tfidfT).flatten()\n",
    "    indices = np.argpartition(similarity, -5)[-5:]\n",
    "    results = movies_df.iloc[indices]\n",
    "    return results"
   ]
  },
  {
   "cell_type": "code",
   "execution_count": 62,
   "metadata": {},
   "outputs": [
    {
     "data": {
      "text/html": [
       "<div>\n",
       "<style scoped>\n",
       "    .dataframe tbody tr th:only-of-type {\n",
       "        vertical-align: middle;\n",
       "    }\n",
       "\n",
       "    .dataframe tbody tr th {\n",
       "        vertical-align: top;\n",
       "    }\n",
       "\n",
       "    .dataframe thead th {\n",
       "        text-align: right;\n",
       "    }\n",
       "</style>\n",
       "<table border=\"1\" class=\"dataframe\">\n",
       "  <thead>\n",
       "    <tr style=\"text-align: right;\">\n",
       "      <th></th>\n",
       "      <th>Poster_Link</th>\n",
       "      <th>Series_Title</th>\n",
       "      <th>Released_Year</th>\n",
       "      <th>Certificate</th>\n",
       "      <th>Runtime</th>\n",
       "      <th>Genre</th>\n",
       "      <th>IMDB_Rating</th>\n",
       "      <th>Overview</th>\n",
       "      <th>Meta_score</th>\n",
       "      <th>Director</th>\n",
       "      <th>Star1</th>\n",
       "      <th>Star2</th>\n",
       "      <th>Star3</th>\n",
       "      <th>Star4</th>\n",
       "      <th>No_of_Votes</th>\n",
       "      <th>Gross</th>\n",
       "    </tr>\n",
       "  </thead>\n",
       "  <tbody>\n",
       "    <tr>\n",
       "      <th>226</th>\n",
       "      <td>https://m.media-amazon.com/images/M/MV5BMGVmMW...</td>\n",
       "      <td>Harry Potter and the Deathly Hallows Part 2</td>\n",
       "      <td>2011</td>\n",
       "      <td>UA</td>\n",
       "      <td>130 min</td>\n",
       "      <td>Adventure Drama Fantasy</td>\n",
       "      <td>8.1</td>\n",
       "      <td>Harry Ron and Hermione search for Voldemorts r...</td>\n",
       "      <td>85.0</td>\n",
       "      <td>David Yates</td>\n",
       "      <td>Daniel Radcliffe</td>\n",
       "      <td>Emma Watson</td>\n",
       "      <td>Rupert Grint</td>\n",
       "      <td>Michael Gambon</td>\n",
       "      <td>764493</td>\n",
       "      <td>381,011,219</td>\n",
       "    </tr>\n",
       "    <tr>\n",
       "      <th>755</th>\n",
       "      <td>https://m.media-amazon.com/images/M/MV5BMTQ2OT...</td>\n",
       "      <td>Harry Potter and the Deathly Hallows Part 1</td>\n",
       "      <td>2010</td>\n",
       "      <td>A</td>\n",
       "      <td>146 min</td>\n",
       "      <td>Adventure Family Fantasy</td>\n",
       "      <td>7.7</td>\n",
       "      <td>As Harry Ron and Hermione race against time an...</td>\n",
       "      <td>65.0</td>\n",
       "      <td>David Yates</td>\n",
       "      <td>Daniel Radcliffe</td>\n",
       "      <td>Emma Watson</td>\n",
       "      <td>Rupert Grint</td>\n",
       "      <td>Bill Nighy</td>\n",
       "      <td>479120</td>\n",
       "      <td>295,983,305</td>\n",
       "    </tr>\n",
       "    <tr>\n",
       "      <th>927</th>\n",
       "      <td>https://m.media-amazon.com/images/M/MV5BNzU3ND...</td>\n",
       "      <td>Harry Potter and the HalfBlood Prince</td>\n",
       "      <td>2009</td>\n",
       "      <td>UA</td>\n",
       "      <td>153 min</td>\n",
       "      <td>Action Adventure Family</td>\n",
       "      <td>7.6</td>\n",
       "      <td>As Harry Potter begins his sixth year at Hogwa...</td>\n",
       "      <td>78.0</td>\n",
       "      <td>David Yates</td>\n",
       "      <td>Daniel Radcliffe</td>\n",
       "      <td>Emma Watson</td>\n",
       "      <td>Rupert Grint</td>\n",
       "      <td>Michael Gambon</td>\n",
       "      <td>474827</td>\n",
       "      <td>301,959,197</td>\n",
       "    </tr>\n",
       "    <tr>\n",
       "      <th>781</th>\n",
       "      <td>https://m.media-amazon.com/images/M/MV5BMTI1ND...</td>\n",
       "      <td>Harry Potter and the Goblet of Fire</td>\n",
       "      <td>2005</td>\n",
       "      <td>UA</td>\n",
       "      <td>157 min</td>\n",
       "      <td>Adventure Family Fantasy</td>\n",
       "      <td>7.7</td>\n",
       "      <td>Harry Potter finds himself competing in a haza...</td>\n",
       "      <td>81.0</td>\n",
       "      <td>Mike Newell</td>\n",
       "      <td>Daniel Radcliffe</td>\n",
       "      <td>Emma Watson</td>\n",
       "      <td>Rupert Grint</td>\n",
       "      <td>Eric Sykes</td>\n",
       "      <td>548619</td>\n",
       "      <td>290,013,036</td>\n",
       "    </tr>\n",
       "    <tr>\n",
       "      <th>947</th>\n",
       "      <td>https://m.media-amazon.com/images/M/MV5BNjQ3NW...</td>\n",
       "      <td>Harry Potter and the Sorcerers Stone</td>\n",
       "      <td>2001</td>\n",
       "      <td>U</td>\n",
       "      <td>152 min</td>\n",
       "      <td>Adventure Family Fantasy</td>\n",
       "      <td>7.6</td>\n",
       "      <td>An orphaned boy enrolls in a school of wizardr...</td>\n",
       "      <td>64.0</td>\n",
       "      <td>Chris Columbus</td>\n",
       "      <td>Daniel Radcliffe</td>\n",
       "      <td>Rupert Grint</td>\n",
       "      <td>Richard Harris</td>\n",
       "      <td>Maggie Smith</td>\n",
       "      <td>658185</td>\n",
       "      <td>317,575,550</td>\n",
       "    </tr>\n",
       "  </tbody>\n",
       "</table>\n",
       "</div>"
      ],
      "text/plain": [
       "                                           Poster_Link  \\\n",
       "226  https://m.media-amazon.com/images/M/MV5BMGVmMW...   \n",
       "755  https://m.media-amazon.com/images/M/MV5BMTQ2OT...   \n",
       "927  https://m.media-amazon.com/images/M/MV5BNzU3ND...   \n",
       "781  https://m.media-amazon.com/images/M/MV5BMTI1ND...   \n",
       "947  https://m.media-amazon.com/images/M/MV5BNjQ3NW...   \n",
       "\n",
       "                                    Series_Title Released_Year Certificate  \\\n",
       "226  Harry Potter and the Deathly Hallows Part 2          2011          UA   \n",
       "755  Harry Potter and the Deathly Hallows Part 1          2010           A   \n",
       "927        Harry Potter and the HalfBlood Prince          2009          UA   \n",
       "781          Harry Potter and the Goblet of Fire          2005          UA   \n",
       "947         Harry Potter and the Sorcerers Stone          2001           U   \n",
       "\n",
       "     Runtime                     Genre  IMDB_Rating  \\\n",
       "226  130 min   Adventure Drama Fantasy          8.1   \n",
       "755  146 min  Adventure Family Fantasy          7.7   \n",
       "927  153 min   Action Adventure Family          7.6   \n",
       "781  157 min  Adventure Family Fantasy          7.7   \n",
       "947  152 min  Adventure Family Fantasy          7.6   \n",
       "\n",
       "                                              Overview  Meta_score  \\\n",
       "226  Harry Ron and Hermione search for Voldemorts r...        85.0   \n",
       "755  As Harry Ron and Hermione race against time an...        65.0   \n",
       "927  As Harry Potter begins his sixth year at Hogwa...        78.0   \n",
       "781  Harry Potter finds himself competing in a haza...        81.0   \n",
       "947  An orphaned boy enrolls in a school of wizardr...        64.0   \n",
       "\n",
       "           Director             Star1         Star2           Star3  \\\n",
       "226     David Yates  Daniel Radcliffe   Emma Watson    Rupert Grint   \n",
       "755     David Yates  Daniel Radcliffe   Emma Watson    Rupert Grint   \n",
       "927     David Yates  Daniel Radcliffe   Emma Watson    Rupert Grint   \n",
       "781     Mike Newell  Daniel Radcliffe   Emma Watson    Rupert Grint   \n",
       "947  Chris Columbus  Daniel Radcliffe  Rupert Grint  Richard Harris   \n",
       "\n",
       "              Star4  No_of_Votes        Gross  \n",
       "226  Michael Gambon       764493  381,011,219  \n",
       "755      Bill Nighy       479120  295,983,305  \n",
       "927  Michael Gambon       474827  301,959,197  \n",
       "781      Eric Sykes       548619  290,013,036  \n",
       "947    Maggie Smith       658185  317,575,550  "
      ]
     },
     "execution_count": 62,
     "metadata": {},
     "output_type": "execute_result"
    }
   ],
   "source": [
    "search('harry potter')"
   ]
  },
  {
   "cell_type": "code",
   "execution_count": 60,
   "metadata": {},
   "outputs": [
    {
     "data": {
      "application/vnd.jupyter.widget-view+json": {
       "model_id": "2af299cbfb614cedac94299b3dc722f3",
       "version_major": 2,
       "version_minor": 0
      },
      "text/plain": [
       "Text(value='Harry Potter', description='Moive_Title')"
      ]
     },
     "metadata": {},
     "output_type": "display_data"
    },
    {
     "data": {
      "application/vnd.jupyter.widget-view+json": {
       "model_id": "62bed30998d64bf1a38690840129507f",
       "version_major": 2,
       "version_minor": 0
      },
      "text/plain": [
       "Output()"
      ]
     },
     "metadata": {},
     "output_type": "display_data"
    }
   ],
   "source": [
    "import ipywidgets as widgets\n",
    "from IPython.display import display\n",
    "movie_input = widgets.Text(\n",
    "    value='Harry Potter',\n",
    "    description='Moive_Title',\n",
    "    disabled=False\n",
    ")\n",
    "movie_list = widgets.Output()\n",
    "\n",
    "def on_type(data):\n",
    "    with movie_list:\n",
    "        movie_list.clear_output()\n",
    "        title = data['new']\n",
    "        display(search(title))\n",
    "\n",
    "movie_input.observe(on_type, names='values')\n",
    "\n",
    "display(movie_input, movie_list)"
   ]
  },
  {
   "cell_type": "code",
   "execution_count": null,
   "metadata": {},
   "outputs": [],
   "source": [
    "movies_df['Overview'] = movies_df['Overview'].apply(lambda x:x.split())"
   ]
  },
  {
   "cell_type": "code",
   "execution_count": null,
   "metadata": {},
   "outputs": [],
   "source": [
    "# This is a test"
   ]
  },
  {
   "cell_type": "code",
   "execution_count": null,
   "metadata": {},
   "outputs": [],
   "source": [
    "movies_df['Genre'] = movies_df['Genre'].apply(lambda x:[i.replace(\" \",\"\") for i in x])"
   ]
  },
  {
   "cell_type": "code",
   "execution_count": null,
   "metadata": {},
   "outputs": [],
   "source": [
    "movies_df['tags'] = movies_df['Overview']"
   ]
  },
  {
   "cell_type": "code",
   "execution_count": null,
   "metadata": {},
   "outputs": [],
   "source": [
    "new_df = movies_df[['tags']]"
   ]
  },
  {
   "cell_type": "code",
   "execution_count": null,
   "metadata": {},
   "outputs": [],
   "source": [
    "from sklearn.feature_extraction.text import CountVectorizer\n",
    "cv = CountVectorizer(max_features=1000, stop_words='english')"
   ]
  },
  {
   "cell_type": "code",
   "execution_count": null,
   "metadata": {},
   "outputs": [],
   "source": [
    "cv.fit_transform(new_df['tags']).toarray().shape"
   ]
  }
 ],
 "metadata": {
  "kernelspec": {
   "display_name": "base",
   "language": "python",
   "name": "python3"
  },
  "language_info": {
   "codemirror_mode": {
    "name": "ipython",
    "version": 3
   },
   "file_extension": ".py",
   "mimetype": "text/x-python",
   "name": "python",
   "nbconvert_exporter": "python",
   "pygments_lexer": "ipython3",
   "version": "3.11.5"
  }
 },
 "nbformat": 4,
 "nbformat_minor": 2
}
